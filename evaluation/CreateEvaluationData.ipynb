{
 "cells": [
  {
   "cell_type": "code",
   "execution_count": 1,
   "metadata": {},
   "outputs": [],
   "source": [
    "from skimage.io import imread\n",
    "import numpy as np\n",
    "import os"
   ]
  },
  {
   "cell_type": "code",
   "execution_count": 2,
   "metadata": {},
   "outputs": [],
   "source": [
    "# path to the test data\n",
    "path = '<path to the test data>/test'\n",
    "path = '/nfs/students/winter-term-2018/project_2/data_split/val/thumbnails_val'"
   ]
  },
  {
   "cell_type": "code",
   "execution_count": 3,
   "metadata": {},
   "outputs": [],
   "source": [
    "# load the labels\n",
    "with open(os.path.join(path, 'files.txt'), 'r') as f:\n",
    "    ll = [l.split(' ') for l in f.readlines() if l.split(' ')[1] != '0']"
   ]
  },
  {
   "cell_type": "code",
   "execution_count": 4,
   "metadata": {},
   "outputs": [],
   "source": [
    "# load images\n",
    "# bring the labels into the right format\n",
    "# left most item is the x position of the left most bounding box. This is important to ensure that \n",
    "# all objects of interest are still on the image when the aspect ratio is changed (e.g. from 16:9 to 1:1)\n",
    "imgs = {}\n",
    "gt = {}\n",
    "left_most_item = {}\n",
    "for l in ll:\n",
    "    imgs[l[0]] = imread(os.path.join(path, l[0]))\n",
    "    gt[l[0]] = [0] * 15\n",
    "    for c in map(int, (l[5*i+2] for i in range(int(l[1])))):\n",
    "        gt[l[0]][c] += 1\n",
    "    left_most_item[l[0]] = min(int(l[5*i+2+1]) for i in range(int(l[1])))"
   ]
  },
  {
   "cell_type": "code",
   "execution_count": 5,
   "metadata": {},
   "outputs": [],
   "source": [
    "# save the images, the labels the left most items, and the filename into numpy arrays\n",
    "rimgs = np.zeros((len(imgs), 1080, 1920, 3), dtype=np.uint8)\n",
    "rgts = np.zeros((len(imgs), 15), dtype=np.uint8)\n",
    "rlmi = np.zeros(len(imgs), dtype=np.int32)\n",
    "rpath = np.empty(len(imgs), dtype=np.object)\n",
    "output_dicts = []\n",
    "for j, (k, i) in enumerate(imgs.items()):\n",
    "    rimgs[j] = i\n",
    "    rpath[j] = k\n",
    "    rlmi[j] = left_most_item[k]\n",
    "    rgts[j] = gt[k]"
   ]
  },
  {
   "cell_type": "code",
   "execution_count": 6,
   "metadata": {},
   "outputs": [],
   "source": [
    "np.savez_compressed('evaluation_test_data', paths=rpath, lmi=rlmi, imgs=rimgs, gt=rgts)"
   ]
  },
  {
   "cell_type": "code",
   "execution_count": null,
   "metadata": {},
   "outputs": [],
   "source": []
  }
 ],
 "metadata": {
  "kernelspec": {
   "display_name": "Python 3",
   "language": "python",
   "name": "python3"
  },
  "language_info": {
   "codemirror_mode": {
    "name": "ipython",
    "version": 3
   },
   "file_extension": ".py",
   "mimetype": "text/x-python",
   "name": "python",
   "nbconvert_exporter": "python",
   "pygments_lexer": "ipython3",
   "version": "3.6.5"
  }
 },
 "nbformat": 4,
 "nbformat_minor": 2
}
