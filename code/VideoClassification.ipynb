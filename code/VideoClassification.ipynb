{
 "cells": [
  {
   "cell_type": "markdown",
   "metadata": {},
   "source": [
    "# Apply a model to a video and create new video with detection boxes drawn\n",
    "<p>\n",
    "    In the process of the practical we've been wondering how robust our model is on more data and different camera angles. Because we did not intend to label a larger test set we decided to do this by visual inspection.\n",
    "</p>"
   ]
  },
  {
   "cell_type": "code",
   "execution_count": null,
   "metadata": {},
   "outputs": [],
   "source": [
    "from forward_pass import forward_pass\n",
    "import numpy as np\n",
    "import cv2\n",
    "import matplotlib.pyplot as plt\n",
    "from fnmatch import fnmatch\n",
    "import os\n",
    "import imageio\n",
    "import shutil\n",
    "\n",
    "%matplotlib inline"
   ]
  },
  {
   "cell_type": "code",
   "execution_count": null,
   "metadata": {},
   "outputs": [],
   "source": [
    "def empty_directory(folder):\n",
    "    for the_file in os.listdir(folder):\n",
    "        file_path = os.path.join(folder, the_file)\n",
    "        try:\n",
    "            if os.path.isfile(file_path):\n",
    "                os.unlink(file_path)\n",
    "            #elif os.path.isdir(file_path): shutil.rmtree(file_path)\n",
    "        except Exception as e:\n",
    "            print(e)"
   ]
  },
  {
   "cell_type": "code",
   "execution_count": null,
   "metadata": {},
   "outputs": [],
   "source": [
    "val_data=False\n",
    "if val_data:\n",
    "    data = np.load('val_data.npz')\n",
    "    img_data, _, lmi = data['imgs'], data['gt'], data['lmi']"
   ]
  },
  {
   "cell_type": "code",
   "execution_count": null,
   "metadata": {},
   "outputs": [],
   "source": [
    "def get_files(path, pattern, not_pattern = None):\n",
    "    found = []\n",
    "    for path, subdirs, files in os.walk(path):\n",
    "        for name in files:\n",
    "            if fnmatch(name, pattern) and (not_pattern is None or not fnmatch(name, not_pattern)):\n",
    "                found.append(os.path.join(path, name))\n",
    "    print(\"Found %d files\"%len(found))\n",
    "    return found"
   ]
  },
  {
   "cell_type": "markdown",
   "metadata": {},
   "source": [
    "## Specify video parameters"
   ]
  },
  {
   "cell_type": "code",
   "execution_count": null,
   "metadata": {},
   "outputs": [],
   "source": [
    "cam = 'Cam1'\n",
    "day = '2018-05-19'\n",
    "video_folder_id = cam+'/'+day\n",
    "video_path = '/nfs/students/winter-term-2018/project_2/video_data/videos/'+ video_folder_id\n",
    "pattern = \"*.mp4\"\n",
    "videos = get_files(video_path, pattern, not_pattern='*._*')\n",
    "videos.sort()\n",
    "\n",
    "img_data = []\n",
    "plot_stuff = False\n",
    "print_every = 20\n",
    "step_size=1\n",
    "speedup = 16\n",
    "picked_videos = range(2000, 2200)\n",
    "# Some suggestions which I've tried\n",
    "#picked_videos = range(5000, 6000, step_size)\n",
    "#found objects in CameraL: [6, 26, 28, 400, 492, 510, 514, 538]\n",
    "#picked_videos = [400, 492, 510] #mainly beer (CameraL)\n",
    "#picked_videos = [6, 26, 28]    #jaegermeister, weissbier (CameraL)\n",
    "#picked_videos = [12, 20, 16]     #williamsbirne, beer (CameraR)\n",
    "#picked_videos = [46, 58, 64, 66] # (Cam2)\n",
    "#picked_videos = [2005, 2018, 2064, 2094, 2098] # (Cam1)"
   ]
  },
  {
   "cell_type": "code",
   "execution_count": null,
   "metadata": {},
   "outputs": [],
   "source": [
    "id_str = '_'\n",
    "for i in [picked_videos[i] for i in [0,-1]]:\n",
    "    id_str += '%d_'%i\n",
    "id_str += '_step_size_%d'%step_size\n",
    "\n",
    "count = 0\n",
    "for c, i in enumerate(picked_videos):\n",
    "    video = videos[i]\n",
    "    images_video = []\n",
    "    cap = cv2.VideoCapture(video)\n",
    "    success,image = cap.read()\n",
    "    count = 0\n",
    "    while success:\n",
    "        #cv2.imwrite(\"frame%d.jpg\" % count, image)     # save frame as JPEG file  \n",
    "        #plt.imshow(image)\n",
    "        if count % speedup == 0:\n",
    "            image = cv2.cvtColor(image, cv2.COLOR_BGR2RGB)\n",
    "            images_video.append(image)\n",
    "        success,image = cap.read()\n",
    "        count += 1\n",
    "        #print(\"Extracted %d images\"%len(images_video))\n",
    "    if plot_stuff:\n",
    "        plt.title(\"%d\"%i)\n",
    "        plt.imshow(images_video[int(len(images_video)/2)])    \n",
    "        plt.show()\n",
    "    else:\n",
    "        if c % print_every == 0:\n",
    "            print(\"Completed loading %d/%d videos\"%(c, len(picked_videos)))\n",
    "    img_data.append(images_video)\n",
    "img_data = np.vstack(img_data)\n",
    "print(img_data.shape)"
   ]
  },
  {
   "cell_type": "code",
   "execution_count": null,
   "metadata": {},
   "outputs": [],
   "source": [
    "# Show example image\n",
    "plt.imshow(img_data[0])\n",
    "plt.show()"
   ]
  },
  {
   "cell_type": "markdown",
   "metadata": {},
   "source": [
    "## Pass data to model"
   ]
  },
  {
   "cell_type": "code",
   "execution_count": null,
   "metadata": {},
   "outputs": [],
   "source": [
    "model = '/nfs/students/winter-term-2018/project_2/models/research/object_detection/training_folder_lsml/train/ssd_julius_mobilefpn_large/frozen_inference_graph.pb'\n",
    "#model = 'train/rfcn/9/frozen_inference_graph.pb'\n",
    "#model = 'train/pseudo_label_training/all_days/rfcn/1/frozen_inference_graph.pb'\n",
    "\n",
    "\"\"\"\n",
    "save_dir = '/nfs/students/winter-term-2018/project_2/models/research/object_detection/training_folder_lsml/video_tmp_data/tmp_img/'+video_folder_id+id_str+'_'+str(speedup)+'x'\n",
    "if os.path.exists(save_dir):\n",
    "    print(\"Save directory already exists! Do you want to delete? (yes/no)\")\n",
    "    inp = input()\n",
    "    assert inp == 'yes', 'Old data will be used then'\n",
    "    empty_directory(save_dir)\n",
    "\"\"\"\n",
    "try:\n",
    "    img_data = forward_pass(model, img_data, gpu='2', BATCH_SIZE=1, thresh=0.5, return_images=True)\n",
    "except Exception as e:\n",
    "    print(str(e))"
   ]
  },
  {
   "cell_type": "code",
   "execution_count": null,
   "metadata": {},
   "outputs": [],
   "source": [
    "# Show example image of classified data\n",
    "#print(np.max(img_data))\n",
    "#print(np.min(img_data))\n",
    "img_data = img_data.astype(np.uint8)\n",
    "plt.imshow(img_data[0])"
   ]
  },
  {
   "cell_type": "markdown",
   "metadata": {},
   "source": [
    "## Convert result images to mp4 file"
   ]
  },
  {
   "cell_type": "code",
   "execution_count": null,
   "metadata": {},
   "outputs": [],
   "source": [
    "model_name = '_ssd_fpn'\n",
    "#model_name='_pseudo_rfcn'"
   ]
  },
  {
   "cell_type": "code",
   "execution_count": null,
   "metadata": {},
   "outputs": [],
   "source": [
    "delete_img_afterwards = True\n",
    "#images = get_files(save_dir, '*.jpg')\n",
    "#images.sort()\n",
    "out_dir = '/nfs/students/winter-term-2018/project_2/models/research/object_detection/training_folder_lsml/video_tmp_data/video/'\n",
    "if not os.path.exists(out_dir):\n",
    "    os.makedirs(out_dir)\n",
    "print(\"Saving to %s\"%out_dir)\n",
    "with imageio.get_writer(out_dir+cam+'-'+day+id_str+model_name+'_'+str(speedup)+'x'+'.mp4', mode='I') as writer:\n",
    "    for img in img_data:\n",
    "        #image = imageio.imread(filename)\n",
    "        #print(\"Shape: %s\\t filename: %s\"%(str(image.shape), filename))\n",
    "        #\"\"\"\n",
    "        try:\n",
    "            writer.append_data(img)\n",
    "        except Exception as e:\n",
    "            print(e)\n",
    "            #print(image.shape)\n",
    "            #image = image[:464,:,:]\n",
    "            #writer.append_data(image)\n",
    "        #\"\"\"\n",
    "print(\"Done\")\n",
    "#if delete_img_afterwards:\n",
    "#    empty_directory(save_dir)\n",
    "#    print(\"Deleted images for video generation\")"
   ]
  },
  {
   "cell_type": "code",
   "execution_count": null,
   "metadata": {},
   "outputs": [],
   "source": [
    "test = np.copy(img_data[0])\n",
    "#plt.imshow(test)\n",
    "#plt.show()\n",
    "print('start')\n",
    "try:\n",
    "    test = cv2.resize(test, (640,640))\n",
    "    cv2.putText(test, 'TEST', (200, 200-15), cv2.FONT_HERSHEY_SIMPLEX, 1.5, (0, 0, 0),2)\n",
    "    cv2.rectangle(test, (200,200), (500,500),(0,255,0),8)\n",
    "    plt.imshow(test)\n",
    "    plt.show()\n",
    "except Exception as e:\n",
    "    print(str(e))\n",
    "print('done')"
   ]
  },
  {
   "cell_type": "code",
   "execution_count": null,
   "metadata": {},
   "outputs": [],
   "source": []
  }
 ],
 "metadata": {
  "kernelspec": {
   "display_name": "py-tf",
   "language": "python",
   "name": "py-tf"
  },
  "language_info": {
   "codemirror_mode": {
    "name": "ipython",
    "version": 3
   },
   "file_extension": ".py",
   "mimetype": "text/x-python",
   "name": "python",
   "nbconvert_exporter": "python",
   "pygments_lexer": "ipython3",
   "version": "3.6.7"
  }
 },
 "nbformat": 4,
 "nbformat_minor": 2
}
