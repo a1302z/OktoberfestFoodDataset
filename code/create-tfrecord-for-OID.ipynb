{
 "cells": [
  {
   "cell_type": "code",
   "execution_count": 1,
   "metadata": {},
   "outputs": [],
   "source": [
    "import tensorflow as tf\n",
    "from object_detection.utils import dataset_util\n",
    "import os\n",
    "import imagesize\n",
    "import pickle"
   ]
  },
  {
   "cell_type": "code",
   "execution_count": 2,
   "metadata": {},
   "outputs": [],
   "source": [
    "# the food related classes\n",
    "id_to_class = {'/m/01599': (1, 'Beer'), '/m/015wgc': (2, 'Croissant'), '/m/01b9xk': (3, 'Hot dog'), '/m/01_bhs': (4, 'Fast food'), '/m/01dwsz': (5, 'Waffle'), '/m/01dwwc': (6, 'Pancake'), '/m/01f91_': (7, 'Pretzel'), '/m/01fb_0': (8, 'Bagel'), '/m/01hrv5': (9, 'Popcorn'), '/m/01j3zr': (10, 'Burrito'), '/m/01nkt': (11, 'Cheese'), '/m/01tcjp': (12, 'Muffin'), '/m/01ww8y': (13, 'Snack'), '/m/01z1kdw': (14, 'Juice'), '/m/021mn': (15, 'Cookie'), '/m/024g6': (16, 'Cocktail'), '/m/0270h': (17, 'Dessert'), '/m/0271t': (18, 'Drink'), '/m/0284d': (19, 'Dairy'), '/m/02g30s': (20, 'Guacamole'), '/m/02jnhm': (21, 'Tin can'), '/m/02vqfm': (22, 'Coffee'), '/m/02wbm': (23, 'Food'), '/m/02xwb': (24, 'Fruit'), '/m/02y6n': (25, 'French fries'), '/m/033cnk': (26, 'Egg'), '/m/04zpv': (27, 'Milk'), '/m/052lwg6': (28, 'Baked goods'), '/m/05z55': (29, 'Pasta'), '/m/0663v': (30, 'Pizza'), '/m/06nwz': (31, 'Seafood'), '/m/06pcq': (32, 'Submarine sandwich'), '/m/07030': (33, 'Sushi'), '/m/07clx': (34, 'Tea'), '/m/07crc': (35, 'Taco'), '/m/081qc': (36, 'Wine'), '/m/09728': (37, 'Bread'), '/m/09tvcd': (38, 'Wine glass'), '/m/0cdn1': (39, 'Hamburger'), '/m/0cxn2': (40, 'Ice cream'), '/m/0f4s2w': (41, 'Vegetable'), '/m/0fszt': (42, 'Cake'), '/m/0grw1': (43, 'Salad'), '/m/0jy4k': (44, 'Doughnut'), '/m/0l515': (45, 'Sandwich')}"
   ]
  },
  {
   "cell_type": "code",
   "execution_count": 3,
   "metadata": {},
   "outputs": [],
   "source": [
    "\"\"\" \n",
    "This script creates an tfrecord file from the Open Images Dataset V4. \n",
    "We used this in order to pretrain our model, hoping that it would increase its performance \n",
    "\"\"\"\n",
    "def create_tf_example(bb):\n",
    "    \"\"\" this function creates an tf example \"\"\"\n",
    "    width, height = imagesize.get('images/' + bb[0][0] + '.jpg')\n",
    "    filename = str.encode(bb[0][0] + '.jpg')\n",
    "    encoded_image_data = tf.gfile.FastGFile('images/' + bb[0][0] + '.jpg', 'rb').read()\n",
    "    image_format = str.encode('jpeg')\n",
    "    xmins = [] # List of normalized left x coordinates in bounding box (1 per box)\n",
    "    xmaxs = [] # List of normalized right x coordinates in bounding box\n",
    "             # (1 per box)\n",
    "    ymins = [] # List of normalized top y coordinates in bounding box (1 per box)\n",
    "    ymaxs = [] # List of normalized bottom y coordinates in bounding box\n",
    "             # (1 per box)\n",
    "    classes_text = [] # List of string class name of bounding box (1 per box)\n",
    "    classes = [] # List of integer class id of bounding box (1 per box)\n",
    "    for b in bb:\n",
    "        xmins.append(float(b[4]))\n",
    "        xmaxs.append(float(b[5]))\n",
    "        ymins.append(float(b[6]))\n",
    "        ymaxs.append(float(b[7]))\n",
    "        class_label = id_to_class[b[2]]\n",
    "        classes.append(class_label[0])\n",
    "        classes_text.append(str.encode(class_label[1]))\n",
    "    tf_label_and_data = tf.train.Example(features=tf.train.Features(feature={\n",
    "      'image/height': dataset_util.int64_feature(height),\n",
    "      'image/width': dataset_util.int64_feature(width),\n",
    "      'image/filename': dataset_util.bytes_feature(filename),\n",
    "      'image/source_id': dataset_util.bytes_feature(filename),\n",
    "      'image/encoded': dataset_util.bytes_feature(encoded_image_data),\n",
    "      'image/format': dataset_util.bytes_feature(image_format),\n",
    "      'image/object/bbox/xmin': dataset_util.float_list_feature(xmins),\n",
    "      'image/object/bbox/xmax': dataset_util.float_list_feature(xmaxs),\n",
    "      'image/object/bbox/ymin': dataset_util.float_list_feature(ymins),\n",
    "      'image/object/bbox/ymax': dataset_util.float_list_feature(ymaxs),\n",
    "      'image/object/class/text': dataset_util.bytes_list_feature(classes_text),\n",
    "      'image/object/class/label': dataset_util.int64_list_feature(classes),\n",
    "    }))\n",
    "    return tf_label_and_data"
   ]
  },
  {
   "cell_type": "code",
   "execution_count": 4,
   "metadata": {},
   "outputs": [],
   "source": [
    "with open('bb', 'rb') as f:\n",
    "    bbd = pickle.load(f)"
   ]
  },
  {
   "cell_type": "code",
   "execution_count": 5,
   "metadata": {},
   "outputs": [
    {
     "name": "stdout",
     "output_type": "stream",
     "text": [
      "WARNING:tensorflow:From <ipython-input-3-7a29a61066a7>:4: FastGFile.__init__ (from tensorflow.python.platform.gfile) is deprecated and will be removed in a future version.\n",
      "Instructions for updating:\n",
      "Use tf.gfile.GFile.\n"
     ]
    }
   ],
   "source": [
    "import contextlib2\n",
    "from object_detection.dataset_tools import tf_record_creation_util\n",
    "num_shards=100\n",
    "output_filebase='sharded_data/oid_data'\n",
    "\n",
    "\"\"\" create sharded tf record file \"\"\"\n",
    "with contextlib2.ExitStack() as tf_record_close_stack:\n",
    "  output_tfrecords = tf_record_creation_util.open_sharded_output_tfrecords(\n",
    "      tf_record_close_stack, output_filebase, num_shards)\n",
    "  for index, bb in enumerate(bbd.values()):\n",
    "    tf_data = create_tf_example(bb)\n",
    "    output_shard_index = index % num_shards\n",
    "    output_tfrecords[output_shard_index].write(tf_data.SerializeToString())"
   ]
  },
  {
   "cell_type": "code",
   "execution_count": null,
   "metadata": {},
   "outputs": [],
   "source": []
  }
 ],
 "metadata": {
  "kernelspec": {
   "display_name": "Python 3",
   "language": "python",
   "name": "python3"
  },
  "language_info": {
   "codemirror_mode": {
    "name": "ipython",
    "version": 3
   },
   "file_extension": ".py",
   "mimetype": "text/x-python",
   "name": "python",
   "nbconvert_exporter": "python",
   "pygments_lexer": "ipython3",
   "version": "3.6.5"
  }
 },
 "nbformat": 4,
 "nbformat_minor": 2
}
