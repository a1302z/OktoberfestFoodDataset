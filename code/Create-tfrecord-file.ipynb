{
 "cells": [
  {
   "cell_type": "code",
   "execution_count": 2,
   "metadata": {},
   "outputs": [],
   "source": [
    "import tensorflow as tf\n",
    "from object_detection.utils import dataset_util\n",
    "import matplotlib.pyplot as plt"
   ]
  },
  {
   "cell_type": "code",
   "execution_count": 3,
   "metadata": {},
   "outputs": [],
   "source": [
    "category_names = ['Bier', 'Bier Maß', 'Weißbier', 'Cola', 'Wasser', 'Curry-Wurst', 'Weißwein',\n",
    "                   'A-Schorle', 'Jägermeister', 'Pommes', 'Burger', 'Williamsbirne', 'Alm-Breze', 'Brotzeitkorb',\n",
    "                   'Käsespätzle']\n",
    "\n",
    "\n",
    "def create_tf_example(label_line, path_to_image, plot=False):\n",
    "    \"\"\"\n",
    "    This function converts an image with its labels into a tensorflow example.\n",
    "    label_line: the label creates with our annotation tool. \n",
    "                OpenCV style i.e. \"<file_name> <number_of_labels> (<category> <x> <y> <width> <height> )*\" \n",
    "    path_to_image: the directory where the image is located \n",
    "    plot: weather the image should be plotted for debug purposes \n",
    "    returns: a tf example \n",
    "    \"\"\"\n",
    "    # example for label_line: 1526752420389_70.jpg 3 12 845 590 520 470 12 250 410 495 540 \n",
    "    data_split = label_line.split(' ')\n",
    "\n",
    "    if int(data_split[1]) == 0:\n",
    "        # no labels\n",
    "        return None\n",
    "\n",
    "    height = 1080  # Image height\n",
    "    width = 1920  # Image width\n",
    "    if plot:\n",
    "        img = plt.imread(path_to_image+data_split[0])\n",
    "        plt.imshow(img)\n",
    "        plt.show()\n",
    "    \n",
    "    # create tf.Example\n",
    "    filename = str.encode(data_split[0]) # Filename of the image. Empty if image is not from file\n",
    "    encoded_image_data = tf.gfile.FastGFile(path_to_image+data_split[0], 'rb').read() # Encoded image bytes\n",
    "    image_format = str.encode('jpeg') # b'jpeg' or b'png'\n",
    "    xmins = [] # List of normalized left x coordinates in bounding box (1 per box)\n",
    "    xmaxs = [] # List of normalized right x coordinates in bounding box\n",
    "             # (1 per box)\n",
    "    ymins = [] # List of normalized top y coordinates in bounding box (1 per box)\n",
    "    ymaxs = [] # List of normalized bottom y coordinates in bounding box\n",
    "             # (1 per box)\n",
    "    classes_text = [] # List of string class name of bounding box (1 per box)\n",
    "    classes = [] # List of integer class id of bounding box (1 per box)\n",
    "    amt_bb_label = int(data_split[1])\n",
    "    amt_bb = int(len(data_split)/5)\n",
    "    if not amt_bb == amt_bb_label:\n",
    "        print(\"Incorrectly number of items in label\")\n",
    "    for i in range(amt_bb):\n",
    "        x_s = float(data_split[i*5+3])\n",
    "        y_s = float(data_split[i*5+4])\n",
    "        xmins.append(x_s/float(width))\n",
    "        xmaxs.append((x_s+float(data_split[i*5+5]))/float(width))\n",
    "        ymins.append(y_s/float(height))\n",
    "        ymaxs.append((y_s+float(data_split[i*5+6]))/float(height))\n",
    "        classes.append(int(data_split[i*5+2]))\n",
    "        classes_text.append(str.encode(category_names[classes[i]]))\n",
    "\n",
    "    tf_label_and_data = tf.train.Example(features=tf.train.Features(feature={\n",
    "      'image/height': dataset_util.int64_feature(height),\n",
    "      'image/width': dataset_util.int64_feature(width),\n",
    "      'image/filename': dataset_util.bytes_feature(filename),\n",
    "      'image/source_id': dataset_util.bytes_feature(filename),\n",
    "      'image/encoded': dataset_util.bytes_feature(encoded_image_data),\n",
    "      'image/format': dataset_util.bytes_feature(image_format),\n",
    "      'image/object/bbox/xmin': dataset_util.float_list_feature(xmins),\n",
    "      'image/object/bbox/xmax': dataset_util.float_list_feature(xmaxs),\n",
    "      'image/object/bbox/ymin': dataset_util.float_list_feature(ymins),\n",
    "      'image/object/bbox/ymax': dataset_util.float_list_feature(ymaxs),\n",
    "      'image/object/class/text': dataset_util.bytes_list_feature(classes_text),\n",
    "      'image/object/class/label': dataset_util.int64_list_feature(classes),\n",
    "    }))\n",
    "    return tf_label_and_data"
   ]
  },
  {
   "cell_type": "code",
   "execution_count": 13,
   "metadata": {},
   "outputs": [],
   "source": [
    "def load_and_save_all_labels(path_to_labels, categories, out_path):\n",
    "    \"\"\"\n",
    "    This function creates the tfrecord file \n",
    "    path_to_labels: path to the dataset created with the ExtractThumbnails script \n",
    "                    each folder must be annotated with the AnnotationTool script\n",
    "    categories: the categories that are annotated \n",
    "    out_path: where the tfrecord should be saved  \n",
    "    \"\"\"\n",
    "    writer_train = tf.python_io.TFRecordWriter(out_path)\n",
    "    count = 0\n",
    "    for c in categories:\n",
    "        label_file = open(path_to_labels+c+'/files.txt', 'r')\n",
    "        data_list = []\n",
    "        for line in label_file:\n",
    "            tf_data = create_tf_example(line, path_to_labels+c+'/')\n",
    "            if tf_data is not None:\n",
    "                data_list.append(tf_data)\n",
    "                count += 1\n",
    "            print(\"%d images completed\"%count,end='\\r')\n",
    "        label_file.close()\n",
    "        for i in range(len(data_list)):\n",
    "            writer_train.write(data_list[i].SerializeToString())\n",
    "    writer_train.close()\n",
    "    print(\"Found %d images for training\"%count)"
   ]
  },
  {
   "cell_type": "code",
   "execution_count": 14,
   "metadata": {},
   "outputs": [
    {
     "name": "stdout",
     "output_type": "stream",
     "text": [
      "Found 1107 images for training\n"
     ]
    }
   ],
   "source": [
    "load_and_save_all_labels('../../data_split/train/thumbnails/', category_names, 'train_data')"
   ]
  }
 ],
 "metadata": {
  "kernelspec": {
   "display_name": "Python 3",
   "language": "python",
   "name": "python3"
  },
  "language_info": {
   "codemirror_mode": {
    "name": "ipython",
    "version": 3
   },
   "file_extension": ".py",
   "mimetype": "text/x-python",
   "name": "python",
   "nbconvert_exporter": "python",
   "pygments_lexer": "ipython3",
   "version": "3.6.0"
  }
 },
 "nbformat": 4,
 "nbformat_minor": 2
}
