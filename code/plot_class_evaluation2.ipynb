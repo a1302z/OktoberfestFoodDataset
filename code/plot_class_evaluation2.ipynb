{
 "cells": [
  {
   "cell_type": "markdown",
   "metadata": {},
   "source": [
    "## Analyze models in more detail\n",
    "<p>\n",
    "    To get more insights on limits and abilites of a model we analyze it per class.\n",
    "</p>"
   ]
  },
  {
   "cell_type": "code",
   "execution_count": null,
   "metadata": {},
   "outputs": [],
   "source": [
    "from new_test import evaluate\n",
    "import matplotlib.pyplot as plt\n",
    "import numpy as np"
   ]
  },
  {
   "cell_type": "code",
   "execution_count": null,
   "metadata": {},
   "outputs": [],
   "source": [
    "category_names = ['Bier', 'Bier Maß', 'Weißbier', 'Cola', 'Wasser', 'Curry-Wurst', 'Weißwein',\n",
    "                   'A-Schorle', 'Jägermeister', 'Pommes', 'Burger', 'Williamsbirne', 'Alm-Breze', 'Brotzeitkorb',\n",
    "                   'Käsespätzle']"
   ]
  },
  {
   "cell_type": "code",
   "execution_count": null,
   "metadata": {},
   "outputs": [],
   "source": [
    "#best_model = 'train/julius_hpo/32/frozen_inference_graph.pb'\n",
    "#best_model = 'train/hpo_alex/train_2018-11-30/10/frozen_inference_graph.pb'\n",
    "#best_model = './train/ssd_julius_mobilenetfpn_more_data_augmentation/3000/frozen_inference_graph.pb'\n",
    "#best_model = 'train/ssd_mobilenet_alex/1/frozen_inference_graph.pb'\n",
    "best_model = '/nfs/students/winter-term-2018/project_2/models/research/object_detection/training_folder_lsml/train/rfcn/9/frozen_inference_graph.pb'\n",
    "#best_model = 'train/ssd_resnet_alex/6/frozen_inference_graph.pb'\n",
    "#best_model = 'train/ssd_julius_mobilefpn_no_umlauts/11000/frozen_inference_graph.pb'\n",
    "#np.set_printoptions(threshold=np.nan)\n",
    "#best_model = 'frozen_graphs/faster_rcnn_5000.pb'\n",
    "#best_model = '/nfs/students/winter-term-2018/project_2/models/research/object_detection/training_folder_lsml/train/pseudo_label_training/all_days/rfcn/1/frozen_inference_graph.pb'\n",
    "rl, al = evaluate(best_model, (300, 300), '3', 50, eval_per_class=True, confusion_matrix=False, threshold = 0.8)\n",
    "print(\"Score of %.3f\"%np.mean(al))"
   ]
  },
  {
   "cell_type": "code",
   "execution_count": null,
   "metadata": {},
   "outputs": [],
   "source": [
    "print(sum(al)/len(al))\n",
    "print(al)\n",
    "print(\"Length evaluation: %d\\t Length category names: %d\"%(len(al), len(category_names)))\n",
    "print(\"Worst class score: %.3f\\tClasses with zero score: %d\"%(min(al), len([i for i in al if i <=1e-3])))\n",
    "print(\"Best class score: %.3f\\tClasses with best score: %d\"%(max(al), len([i for i in al if i >=1.0])))\n",
    "print(\"Classes with score > 0.5: %d/%d\"%(len([i for i in al if i >=0.5]), len(al)))"
   ]
  },
  {
   "cell_type": "code",
   "execution_count": null,
   "metadata": {},
   "outputs": [],
   "source": [
    "t = list(filter(lambda x: x > .5, al))\n",
    "print(sum(t)/len(t))"
   ]
  },
  {
   "cell_type": "code",
   "execution_count": null,
   "metadata": {},
   "outputs": [],
   "source": [
    "save_stuff = False\n",
    "for i in range(len(al)):\n",
    "    plt.title('%s: AUC=%.4f'%(category_names[i], al[i]))\n",
    "    plt.plot(*rl[i].T)\n",
    "    plt.axis([-0.01, 1.01, -.05, 1.05])\n",
    "    plt.xlabel('Recall')\n",
    "    plt.ylabel('Precision')\n",
    "    if save_stuff:\n",
    "        plt.savefig('/nfs/students/winter-term-2018/project_2/models/research/object_detection/training_folder_lsml/result_figures/class_eval/'+category_names[i]+'.png')\n",
    "    plt.show()\n",
    "    plt.close()"
   ]
  },
  {
   "cell_type": "markdown",
   "metadata": {},
   "source": [
    "## Correlation of number of training images of class to class score"
   ]
  },
  {
   "cell_type": "code",
   "execution_count": null,
   "metadata": {},
   "outputs": [],
   "source": [
    "num_classes = [395, 235, 256, 179, 235, 135, 112, 75, 136, 110, 101, 96, 94, 49, 87]\n",
    "plt.scatter(num_classes, al)\n",
    "plt.xlabel('#Labels per class')\n",
    "plt.ylabel('Class score')\n",
    "if save_stuff:\n",
    "    plt.savefig('result_figures/classes/correspondance.png')\n",
    "plt.show()"
   ]
  },
  {
   "cell_type": "code",
   "execution_count": null,
   "metadata": {},
   "outputs": [],
   "source": []
  }
 ],
 "metadata": {
  "kernelspec": {
   "display_name": "py-tf",
   "language": "python",
   "name": "py-tf"
  },
  "language_info": {
   "codemirror_mode": {
    "name": "ipython",
    "version": 3
   },
   "file_extension": ".py",
   "mimetype": "text/x-python",
   "name": "python",
   "nbconvert_exporter": "python",
   "pygments_lexer": "ipython3",
   "version": "3.6.7"
  }
 },
 "nbformat": 4,
 "nbformat_minor": 2
}
